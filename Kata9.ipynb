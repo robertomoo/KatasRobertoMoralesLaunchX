{
  "cells": [
    {
      "cell_type": "markdown",
      "metadata": {},
      "source": [
        "# Ejercicio: Uso de funciones en Python"
      ]
    },
    {
      "cell_type": "markdown",
      "metadata": {},
      "source": [
        "### Ejercicio 1: Trabajar con argumentos en funciones\n",
        "\n",
        "Los argumentos requeridos en las funciones se utilizan cuando las funciones necesitan que esos argumentos funcionen correctamente. En este ejercicio, construirás un informe de combustible que requiere información de varias ubicaciones de combustible en todo el cohete.\n",
        "\n"
      ]
    },
    {
      "cell_type": "markdown",
      "metadata": {},
      "source": [
        "> **TIP**\n",
        "> Dedica unos minutos para tratar de encontrar una solución. Luego desplázate hacia abajo hasta la parte inferior para ver si has logrado compilar el programa de acuerdo con las especificaciones\n",
        "\n",
        "Comienza por crear una función que necesite tres lecturas de combustible y devuelva un informe:"
      ]
    },
    {
      "cell_type": "code",
      "execution_count": 3,
      "metadata": {},
      "outputs": [],
      "source": [
        "# Función para leer 3 tanques de combustible y muestre el promedio\n",
        "def informe(tanque_princi, tanque_rsv, tanque_ext):\n",
        "    total = (tanque_princi + tanque_rsv + tanque_ext) / 3\n",
        "    return f\"\"\"Fuel Report:\n",
        "    Total: {total}%\n",
        "    Tanque Principal: {tanque_princi}%\n",
        "    Tanque Reserva: {tanque_rsv}%\n",
        "    Tanque Externo: {tanque_ext}% \n",
        "    \"\"\"\n"
      ]
    },
    {
      "cell_type": "markdown",
      "metadata": {},
      "source": [
        "Ahora que hemos definido la función de informes, vamos a comprobarlo. Para esta misión, los tanques no están llenos:"
      ]
    },
    {
      "cell_type": "code",
      "execution_count": 5,
      "metadata": {},
      "outputs": [
        {
          "name": "stdout",
          "output_type": "stream",
          "text": [
            "Fuel Report:\n",
            "    Total: 76.66666666666667%\n",
            "    Tanque Principal: 100%\n",
            "    Tanque Exterior: 80%\n",
            "    Tanque de Hidrogeno: 50% \n",
            "    \n"
          ]
        }
      ],
      "source": [
        "\n",
        "# Llamamos a la función que genera el reporte print(funcion(tanque1, tanque2, tanque3))\n",
        "print(informe(100, 80, 50))"
      ]
    },
    {
      "cell_type": "markdown",
      "metadata": {},
      "source": [
        "En lugar de simplemente crear el informe, la función también está calculando el promedio. Mejora la legibilidad extrayendo el cálculo promedio de la función en una nueva función para que el promedio se pueda hacer de forma independiente:"
      ]
    },
    {
      "cell_type": "code",
      "execution_count": 6,
      "metadata": {},
      "outputs": [
        {
          "data": {
            "text/plain": [
              "82.0"
            ]
          },
          "execution_count": 6,
          "metadata": {},
          "output_type": "execute_result"
        }
      ],
      "source": [
        "# Función promedio \n",
        "def promedio(prueba):\n",
        "    total = sum(prueba)\n",
        "    lista = len(prueba)\n",
        "    return total / lista\n",
        "\n",
        "promedio([80, 85, 81]) "
      ]
    },
    {
      "cell_type": "markdown",
      "metadata": {},
      "source": [
        "Ahora actualiza la función de informes para llamando a la nueva función del promedio:\n"
      ]
    },
    {
      "cell_type": "code",
      "execution_count": 11,
      "metadata": {},
      "outputs": [
        {
          "name": "stdout",
          "output_type": "stream",
          "text": [
            "Fuel Report:\n",
            "    Total: 76.66666666666667%\n",
            "    Tanque Principal: 100%\n",
            "    Tanque Reserva: 80%\n",
            "    Tanque Externo: 50% \n",
            "    \n"
          ]
        }
      ],
      "source": [
        "# Actualiza la función\n",
        "def promedio(prueba):\n",
        "    total = sum(prueba)\n",
        "    lista = len(prueba)\n",
        "    return total / lista\n",
        "\n",
        "def informe(tanque_princi, tanque_rsv, tanque_ext):\n",
        "    return f\"\"\"Fuel Report:\n",
        "    Total: {promedio([tanque_princi,tanque_rsv,tanque_ext])}%\n",
        "    Tanque Principal: {tanque_princi}%\n",
        "    Tanque Reserva: {tanque_rsv}%\n",
        "    Tanque Externo: {tanque_ext}% \n",
        "    \"\"\"\n",
        "\n",
        "print(informe(100, 80, 50))"
      ]
    },
    {
      "cell_type": "markdown",
      "metadata": {},
      "source": [
        "> Recuerda: Lo importante es intentarlo, puedes auxiliarte de internet, libros, etc. El objetivo de una kata es la comprobación de la comprensión de la lección y su aplicación inmediata a la resolución de problemas. Go for it!"
      ]
    },
    {
      "cell_type": "markdown",
      "metadata": {},
      "source": [
        "## Ejercicio 2: Trabajo con argumentos de palabra clave"
      ]
    },
    {
      "cell_type": "markdown",
      "metadata": {},
      "source": [
        "### Ejercicio : Trabajar con argumentos de palabras clave en funciones\n",
        "En este ejercicio, construirás un informe de cohete que requiere varias piezas de información, como el tiempo hasta el destino, el combustible a la izquierda y el nombre del destino. Comienza por crear una función que creará un informe preciso de la misión:"
      ]
    },
    {
      "cell_type": "code",
      "execution_count": 12,
      "metadata": {},
      "outputs": [
        {
          "name": "stdout",
          "output_type": "stream",
          "text": [
            "\n",
            "    Mision a Luna\n",
            "    Total viaje estimado(tiempo): 65 minutos\n",
            "    Total combustible disponible: 500000 litros\n",
            "    \n"
          ]
        }
      ],
      "source": [
        "# Función con un informe preciso de la misión. Considera hora de prelanzamiento, tiempo de vuelo, destino, tanque externo y tanque interno\n",
        "def reporte_mision(tiempo_prelanzamiento, tiempo_vuelo, destino, tanque_externo, tanque_interno):\n",
        "    return f\"\"\"\n",
        "    Mision a {destino}\n",
        "    Total viaje estimado(tiempo): {tiempo_prelanzamiento + tiempo_vuelo} minutos\n",
        "    Total combustible disponible: {tanque_externo + tanque_interno} litros\n",
        "    \"\"\"\n",
        "\n",
        "print(reporte_mision(14, 51, \"Luna\", 200000, 300000))"
      ]
    },
    {
      "cell_type": "markdown",
      "metadata": {},
      "source": [
        "La función es problemática porque no se puede adaptar para minutos adicionales o tanques adicionales de combustible. Hazlo más flexible permitiendo cualquier número de pasos basados en el tiempo y cualquier número de tanques. En lugar de usar `*args` y `**kwargs`, aprovecha el hecho de que puedes usar cualquier nombre que desees. Asegurate que la función sea más legible mediante el uso de nombres de variables que están asociados con las entradas, como `*minutes` y `**fuel_reservoirs`:"
      ]
    },
    {
      "cell_type": "code",
      "execution_count": 24,
      "metadata": {},
      "outputs": [
        {
          "name": "stdout",
          "output_type": "stream",
          "text": [
            "\n",
            "    Mision a Luna\n",
            "    Total viaje estimado(tiempo): 76 minutos\n",
            "    Total combustible disponible: 500000 litros\n",
            "    \n"
          ]
        }
      ],
      "source": [
        "# Escribe tu nueva función de reporte considerando lo anterior\n",
        "def reporte_mision(destino, *minutos, **reservas_tanque):\n",
        "    return f\"\"\"\n",
        "    Mision a {destino}\n",
        "    Total viaje estimado(tiempo): {sum(minutos)} minutos\n",
        "    Total combustible disponible: {sum(reservas_tanque.values())} litros\n",
        "    \"\"\"\n",
        "print(reporte_mision(\"Luna\", 10, 15, 51, Principal=300000, Externo=200000))"
      ]
    },
    {
      "cell_type": "markdown",
      "metadata": {},
      "source": [
        "Debido a que el combustible que queda en los tanques es específico de cada tanque, actualiza la función para usar el nombre de cada tanque en el informe:"
      ]
    },
    {
      "cell_type": "code",
      "execution_count": 23,
      "metadata": {},
      "outputs": [
        {
          "name": "stdout",
          "output_type": "stream",
          "text": [
            "\n",
            "    Mision a Luna\n",
            "    Total viaje estimado(tiempo): 76 minutos\n",
            "    Total combustible disponible: 500000 litros\n",
            "    \n",
            "    Principal Tanque --> 300000 litros restantes\n",
            "Externo Tanque --> 200000 litros restantes\n",
            "\n"
          ]
        }
      ],
      "source": [
        "# Escribe tu nueva función\n",
        "def reporte_mision(destino, *minutos, **reservas_tanque):\n",
        "    reporte = f\"\"\"\n",
        "    Mision a {destino}\n",
        "    Total viaje estimado(tiempo): {sum(minutos)} minutos\n",
        "    Total combustible disponible: {sum(reservas_tanque.values())} litros\n",
        "    \"\"\"\n",
        "    \n",
        "    for nombre_tanque, litros in reservas_tanque.items():\n",
        "        reporte += f\"{nombre_tanque} Tanque --> {litros} litros restantes\\n\"\n",
        "    return reporte\n",
        "\n",
        "print(reporte_mision(\"Luna\", 10, 15, 51, Principal=300000, Externo=200000))"
      ]
    }
  ],
  "metadata": {
    "interpreter": {
      "hash": "205095b8b86ea82a021a8fc2ffba2b3bc9f8d0be25999901963b225939f75778"
    },
    "kernelspec": {
      "display_name": "Python 3.8.10 64-bit ('tmp': conda)",
      "name": "python3"
    },
    "language_info": {
      "codemirror_mode": {
        "name": "ipython",
        "version": 3
      },
      "file_extension": ".py",
      "mimetype": "text/x-python",
      "name": "python",
      "nbconvert_exporter": "python",
      "pygments_lexer": "ipython3",
      "version": "3.9.2"
    },
    "nteract": {
      "version": "nteract-front-end@1.0.0"
    },
    "orig_nbformat": 4
  },
  "nbformat": 4,
  "nbformat_minor": 2
}
