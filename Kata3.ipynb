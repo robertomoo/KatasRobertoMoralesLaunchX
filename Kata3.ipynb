{
 "cells": [
  {
   "cell_type": "markdown",
   "metadata": {},
   "source": [
    "Para este ejercicio, escribirás una lógica condicional que imprima una advertencia si un asteroide se acerca a la Tierra demasiado rápido. La velocidad del asteroide varía dependiendo de lo cerca que esté del sol, y cualquier velocidad superior a 25 kilómetros por segundo (km/s) merece una advertencia.\n",
    "\n",
    "Un asteroide se acerca, y viaja a una velocidad de 49 km/s.\n",
    "\n",
    "Añadir el código necesario para crear una variable que guarde la velocidad del asteroide.\n",
    "\n",
    "Escribe una expresión de prueba para calcular si necesita una advertencia.\n",
    "\n",
    "Agregue las instrucciones que se ejecutarán si la expresión de prueba es true o false."
   ]
  },
  {
   "cell_type": "code",
   "execution_count": 4,
   "metadata": {},
   "outputs": [
    {
     "name": "stdout",
     "output_type": "stream",
     "text": [
      "¡ Emergencia !, Un asteroide se acerca de forma peligrosa\n"
     ]
    }
   ],
   "source": [
    "asteroide = 45\n",
    "if asteroide > 25:\n",
    "    print(\"¡ Emergencia !, Un asteroide se acerca de forma peligrosa\")\n",
    "else:\n",
    "    print(\"Todo esta de forma normal\")"
   ]
  },
  {
   "cell_type": "markdown",
   "metadata": {},
   "source": [
    "Si un asteroide entra en la atmósfera de la Tierra a una velocidad mayor o igual a 20 km/s, a veces produce un  rayo de luz que se puede ver desde la Tierra. Escribe la lógica condicional que usa declaraciones `if`, \n",
    "`else`, y `elif` para alertar a las personas de todo el mundo que deben buscar un asteroide en el cielo. ¡Hay \n",
    "uno que se dirige a la tierra ahora a una velocidad de 19 km/s!\n",
    "\n",
    "Agrega el código para crear una variable para un asteroide que viaja a 19 km/s\n",
    "\n",
    "Escribe varias expresiones de prueba para determinar si puedes ver el rayo de luz desde la tierra\n",
    "\n",
    "Agrega las instrucciones que se ejecutarán si las expresiones de prueba son True o False"
   ]
  },
  {
   "cell_type": "code",
   "execution_count": 7,
   "metadata": {},
   "outputs": [
    {
     "name": "stdout",
     "output_type": "stream",
     "text": [
      "No hay nada diferente en el cielo\n"
     ]
    }
   ],
   "source": [
    "asteroide = 19\n",
    "if asteroide > 20:\n",
    "    print(\"¡ Mira el cielo !, Que bonito destello se ve\")\n",
    "elif asteroide == 20:\n",
    "    print(\"¡ Mira el cielo !, Que bonito destello se ve\")\n",
    "else:\n",
    "    print(\"No hay nada diferente en el cielo\")"
   ]
  },
  {
   "cell_type": "code",
   "execution_count": 14,
   "metadata": {},
   "outputs": [
    {
     "name": "stdout",
     "output_type": "stream",
     "text": [
      "¡ Mira el cielo !, Que bonito destello se ve\n"
     ]
    }
   ],
   "source": [
    "# Agrega el código para crear nuevas variables para la velocidad y el tamaño del asteroide\n",
    "# Para probar el código, prueba con varias velocidades y tamaños\n",
    "# Escribe varias expresiones de prueba o combinaciones de expresiones de prueba para determinar qué mensaje se debe enviar a Tierra.\n",
    "\n",
    "velocidad_asteroide = 26\n",
    "tamaño_asteroide = 20\n",
    "\n",
    "if velocidad_asteroide > 25 and tamaño_asteroide > 20:\n",
    "    print(\"¡ Emergencia !, Un asteroide se acerca peligrosamente\")\n",
    "elif velocidad_asteroide >= 20 and tamaño_asteroide <= 20:\n",
    "    print(\"¡ Mira el cielo !, Que bonito destello se ve\")\n",
    "elif tamaño_asteroide < 20:\n",
    "    print(\"No hay nada diferente en el cielo\")\n",
    "else:\n",
    "    print(\"No hay nada diferente en el cielo\")\n"
   ]
  }
 ],
 "metadata": {
  "interpreter": {
   "hash": "397704579725e15f5c7cb49fe5f0341eb7531c82d19f2c29d197e8b64ab5776b"
  },
  "kernelspec": {
   "display_name": "Python 3.9.2 64-bit",
   "language": "python",
   "name": "python3"
  },
  "language_info": {
   "codemirror_mode": {
    "name": "ipython",
    "version": 3
   },
   "file_extension": ".py",
   "mimetype": "text/x-python",
   "name": "python",
   "nbconvert_exporter": "python",
   "pygments_lexer": "ipython3",
   "version": "3.9.2"
  },
  "orig_nbformat": 4
 },
 "nbformat": 4,
 "nbformat_minor": 2
}
